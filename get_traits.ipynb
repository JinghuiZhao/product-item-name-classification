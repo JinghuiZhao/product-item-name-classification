{
 "cells": [
  {
   "cell_type": "code",
   "execution_count": 336,
   "metadata": {},
   "outputs": [],
   "source": [
    "import numpy as np # linear algebra\n",
    "import pandas as pd \n",
    "import warnings\n",
    "warnings.filterwarnings(\"ignore\")"
   ]
  },
  {
   "cell_type": "code",
   "execution_count": 644,
   "metadata": {},
   "outputs": [],
   "source": [
    "df = pd.read_csv('whole_df.csv')"
   ]
  },
  {
   "cell_type": "code",
   "execution_count": 645,
   "metadata": {},
   "outputs": [],
   "source": [
    "concated = df"
   ]
  },
  {
   "cell_type": "code",
   "execution_count": 646,
   "metadata": {},
   "outputs": [],
   "source": [
    "import nltk\n",
    "import re\n",
    "from itertools import chain\n",
    "\n",
    "all_rows = [re.sub('[()&;,:!<>/#~-]', '', row.lower()) for row in concated[concated.type == 'clothing'].name]\n",
    "allWords = [row.split(' ') for row in all_rows]\n",
    "allWordDist = nltk.FreqDist(w.lower() for w in list(chain(*allWords)))\n",
    "stopwords = nltk.corpus.stopwords.words('english')\n",
    "#stopwords.extend(['in', 'on', 'with', 'for', 'by', 'to', 'and', 'the', 'm', 'us'])\n",
    "allWordExceptStopDist = nltk.FreqDist(w.lower() for w in allWordDist if w not in stopwords)    "
   ]
  },
  {
   "cell_type": "code",
   "execution_count": 647,
   "metadata": {
    "scrolled": true
   },
   "outputs": [],
   "source": [
    "freq = [i[0] for i in allWordExceptStopDist.most_common(5000)]"
   ]
  },
  {
   "cell_type": "code",
   "execution_count": 780,
   "metadata": {},
   "outputs": [],
   "source": [
    "from itertools import chain\n",
    "\n",
    "color = 'Red, Orange, Yellow, Green, Blue, Purple, Brown, Silver, Violet, Pink, Black, White, Gray, Grey'.lower().split(', ')\n",
    "size = ['large', 'medium', 'small', 'tiny', 'xxl', 'xl', 'xxxl']\n",
    "\n",
    "gender = ['men', 'women', 'boys', 'girls', 'girl', 'boy', 'lady']\n",
    "clothing_noun = ['shirt', 'tshirt', 'pants', 'sweatshirt', 'sock','socks','visor','hat',\n",
    "                 't-shirt', 'top', 'pajamas', 'pajama', 'miniskirt',\n",
    "                 'jacket', 'leggings', 'legging', 'underwear',\n",
    "                 'costume', 'cardigan', 'blouse', 'beret', 'shorts', 'bibbikini',\n",
    "                 'sock', 'sweater', 'suit', 'stockings', 'sweatshirt', 'trousers',\n",
    "                 'uniform', 'gown', 'clothing', 'belt', 'bonnet', 'tie', 'blazer',\n",
    "                 'dress', 'attire', 'apron', 'bra', 'jeans', 'raincoat', 'lingerie',\n",
    "                 'shorts']\n",
    "\n",
    "exclude = [i for i in chain(color, size, gender, clothing_noun)]\n",
    "clothing_style = [i for i in freq if i not in exclude]"
   ]
  },
  {
   "cell_type": "code",
   "execution_count": 761,
   "metadata": {},
   "outputs": [
    {
     "data": {
      "text/plain": [
       "['sequin',\n",
       " 'dancer',\n",
       " 'tutu',\n",
       " 'ballet',\n",
       " 'dance',\n",
       " 'fairy',\n",
       " 'princess',\n",
       " 'accessory',\n",
       " 'dressup',\n",
       " 'shining']"
      ]
     },
     "execution_count": 761,
     "metadata": {},
     "output_type": "execute_result"
    }
   ],
   "source": [
    "clothing_style[:10]"
   ]
  },
  {
   "cell_type": "markdown",
   "metadata": {},
   "source": [
    "Genism word2vec requires that a format of ‘list of lists’ for training where every document is contained in a list and every list contains lists of tokens of that document. At first, we need to generate a format of ‘list of lists’ for training the make model word embedding. To be more specific, each make model is contained in a list and every list contains lists of features of that make model."
   ]
  },
  {
   "cell_type": "code",
   "execution_count": 762,
   "metadata": {},
   "outputs": [
    {
     "data": {
      "text/plain": [
       "[['purple',\n",
       "  'sequin',\n",
       "  'tiny',\n",
       "  'dancer',\n",
       "  'tutu',\n",
       "  'ballet',\n",
       "  'dance',\n",
       "  'fairy',\n",
       "  'princess',\n",
       "  'costume',\n",
       "  'accessory'],\n",
       " ['ballet', 'dressup', 'fairy', 'tutu']]"
      ]
     },
     "execution_count": 762,
     "metadata": {},
     "output_type": "execute_result"
    }
   ],
   "source": [
    "# Create the list of list format of the custom corpus for gensim modeling \n",
    "sent = allWords\n",
    "# show the example of list of list format of the custom corpus for gensim modeling \n",
    "sent[:2]"
   ]
  },
  {
   "cell_type": "code",
   "execution_count": 811,
   "metadata": {},
   "outputs": [
    {
     "data": {
      "text/plain": [
       "[('blue', 0.9806678295135498),\n",
       " ('green', 0.9803977012634277),\n",
       " ('dark', 0.9687007069587708),\n",
       " ('pink', 0.961593508720398)]"
      ]
     },
     "execution_count": 811,
     "metadata": {},
     "output_type": "execute_result"
    }
   ],
   "source": [
    "# skip gram\n",
    "model = Word2Vec(sent, min_count=1, size= 50, workers=3, window = 3, sg = 1)\n",
    "\n",
    "model.most_similar('red')[:4]"
   ]
  },
  {
   "cell_type": "code",
   "execution_count": null,
   "metadata": {},
   "outputs": [],
   "source": [
    "# Create CBOW model \n",
    "#model = gensim.models.Word2Vec(sent, min_count = 1,  \n",
    "                            #  size = 50, window = 5) \n"
   ]
  },
  {
   "cell_type": "code",
   "execution_count": 767,
   "metadata": {},
   "outputs": [
    {
     "data": {
      "text/plain": [
       "0.72772837"
      ]
     },
     "execution_count": 767,
     "metadata": {},
     "output_type": "execute_result"
    }
   ],
   "source": [
    "def cosine_distance (model, word, target_list) :\n",
    "    cosine_dict ={}\n",
    "    word_list = []\n",
    "    a = model[word]\n",
    "    b = sum([model[item] for item in target_list])/len(target_list)\n",
    "    cos_sim = np.dot(a, b)/(np.linalg.norm(a)* np.linalg.norm(b))\n",
    "    return cos_sim\n",
    "cosine_distance (model, 'dress', color)"
   ]
  },
  {
   "cell_type": "code",
   "execution_count": 768,
   "metadata": {},
   "outputs": [
    {
     "data": {
      "text/plain": [
       "0.9689934"
      ]
     },
     "execution_count": 768,
     "metadata": {},
     "output_type": "execute_result"
    }
   ],
   "source": [
    "cosine_distance (model, 'red', color)"
   ]
  },
  {
   "cell_type": "code",
   "execution_count": 792,
   "metadata": {},
   "outputs": [
    {
     "data": {
      "text/plain": [
       "'purple sequin tiny dancer tutu ballet dance fairy princess costume accessory'"
      ]
     },
     "execution_count": 792,
     "metadata": {},
     "output_type": "execute_result"
    }
   ],
   "source": [
    "all_rows[0]"
   ]
  },
  {
   "cell_type": "code",
   "execution_count": 770,
   "metadata": {},
   "outputs": [
    {
     "name": "stdout",
     "output_type": "stream",
     "text": [
      "0.97770584\n",
      "0.897861\n",
      "0.81190807\n",
      "0.91421586\n",
      "0.8862196\n",
      "0.78072214\n",
      "0.9319234\n",
      "0.8480487\n",
      "0.6816776\n",
      "0.6814914\n",
      "0.7525961\n"
     ]
    }
   ],
   "source": [
    "for i in all_rows[0].split(' '):\n",
    "    print(cosine_distance(model, i, color))"
   ]
  },
  {
   "cell_type": "code",
   "execution_count": 771,
   "metadata": {},
   "outputs": [
    {
     "name": "stdout",
     "output_type": "stream",
     "text": [
      "0.9040055\n",
      "0.9827376\n",
      "0.9553812\n",
      "0.9873992\n",
      "0.9885574\n",
      "0.90277046\n",
      "0.96923584\n",
      "0.86395603\n",
      "0.72729653\n",
      "0.6829464\n",
      "0.7387343\n"
     ]
    }
   ],
   "source": [
    "for i in all_rows[0].split(' '):\n",
    "    print(cosine_distance(model, i, clothing_style))"
   ]
  },
  {
   "cell_type": "code",
   "execution_count": 772,
   "metadata": {},
   "outputs": [
    {
     "name": "stdout",
     "output_type": "stream",
     "text": [
      "0.95910066\n",
      "0.907277\n",
      "0.8652273\n",
      "0.93854064\n",
      "0.9140771\n",
      "0.85864556\n",
      "0.96216244\n",
      "0.8887504\n",
      "0.7295763\n",
      "0.70556265\n",
      "0.7638474\n"
     ]
    }
   ],
   "source": [
    "for i in all_rows[0].split(' '):\n",
    "    print(cosine_distance(model, i, size))"
   ]
  },
  {
   "cell_type": "code",
   "execution_count": 773,
   "metadata": {},
   "outputs": [
    {
     "name": "stdout",
     "output_type": "stream",
     "text": [
      "0.87507886\n",
      "0.87139666\n",
      "0.8753876\n",
      "0.9242217\n",
      "0.90330464\n",
      "0.91521734\n",
      "0.94049984\n",
      "0.9395884\n",
      "0.85723203\n",
      "0.8577483\n",
      "0.8251869\n"
     ]
    }
   ],
   "source": [
    "for i in all_rows[0].split(' '):\n",
    "    print(cosine_distance(model, i, gender))"
   ]
  },
  {
   "cell_type": "code",
   "execution_count": 774,
   "metadata": {},
   "outputs": [],
   "source": [
    "# get the words related with color for each product\n",
    "def get_traits(model, row, target_list):\n",
    "    word_list = []\n",
    "    cosine_dict = {}\n",
    "    for i in row.split(' '):\n",
    "        a = model[i]\n",
    "        b = sum([model[item] for item in target_list])/len(target_list)\n",
    "        cos_sim = np.dot(a, b)/(np.linalg.norm(a)* np.linalg.norm(b))\n",
    "        cosine_dict[i] = cos_sim\n",
    "        dist_sort = sorted(cosine_dict.items(), key=lambda dist: dist[1],reverse = True) ## in Descedning order \n",
    "    if dist_sort[0][1] > 0.93:\n",
    "        return dist_sort[0][0]\n",
    "    else:\n",
    "        return 'Null'"
   ]
  },
  {
   "cell_type": "markdown",
   "metadata": {},
   "source": [
    "# test some samples"
   ]
  },
  {
   "cell_type": "code",
   "execution_count": 775,
   "metadata": {},
   "outputs": [
    {
     "name": "stdout",
     "output_type": "stream",
     "text": [
      "The item is:   purple sequin tiny dancer tutu ballet dance fairy princess costume accessory\n",
      "The color detected will be:   purple\n"
     ]
    }
   ],
   "source": [
    "print('The item is:  ', all_rows[0])\n",
    "print('The color detected will be:  ', get_traits(model, all_rows[0], color))"
   ]
  },
  {
   "cell_type": "code",
   "execution_count": 781,
   "metadata": {},
   "outputs": [
    {
     "name": "stdout",
     "output_type": "stream",
     "text": [
      "The item is:   tommy bahama brushed palms linen camp shirt color light straw size xl\n",
      "The size detected will be:   xl\n"
     ]
    }
   ],
   "source": [
    "print('The item is:  ', all_rows[78])\n",
    "print('The size detected will be:  ', get_traits(model, all_rows[78], size))"
   ]
  },
  {
   "cell_type": "code",
   "execution_count": 777,
   "metadata": {},
   "outputs": [
    {
     "name": "stdout",
     "output_type": "stream",
     "text": [
      "The item is:   quoti love yaoiquot lucky bag black\n",
      "The color detected will be:   black\n"
     ]
    }
   ],
   "source": [
    "print('The item is:  ', all_rows[9])\n",
    "print('The color detected will be:  ', get_traits(model, all_rows[9], color))"
   ]
  },
  {
   "cell_type": "code",
   "execution_count": 778,
   "metadata": {},
   "outputs": [
    {
     "name": "stdout",
     "output_type": "stream",
     "text": [
      "The item is:   new cute sexy korean school girl uniform cosplay costume 4 size\n",
      "The style detected will be:   cosplay\n"
     ]
    }
   ],
   "source": [
    "print('The item is:  ', all_rows[90])\n",
    "print('The style detected will be:  ', get_traits(model, all_rows[90], clothing_style))"
   ]
  },
  {
   "cell_type": "code",
   "execution_count": 784,
   "metadata": {},
   "outputs": [
    {
     "name": "stdout",
     "output_type": "stream",
     "text": [
      "The item is:   sponge bob school backpack  large size  folded arm\n",
      "The style detected will be:   large\n"
     ]
    }
   ],
   "source": [
    "print('The item is:  ', all_rows[47])\n",
    "print('The style detected will be:  ', get_traits(model, all_rows[47], size))"
   ]
  },
  {
   "cell_type": "code",
   "execution_count": 564,
   "metadata": {},
   "outputs": [],
   "source": [
    "def get_trait_df(all_rows_name, model2, color, gender, size, style):\n",
    "    color_word = []\n",
    "    size_word = []\n",
    "    gender_word =[]\n",
    "    style_word = []\n",
    "    for i in all_rows_name:\n",
    "        color_word.append(get_traits(model2, i, color))\n",
    "        size_word.append(get_traits(model2, i, size))\n",
    "        gender_word.append(get_traits(model2, i, gender))\n",
    "        style_word.append(get_traits(model2, i, style))\n",
    "    df = pd.DataFrame({'name': all_rows_name, 'color_word': color_word, \n",
    "              'size_word': size_word, 'gender_word': gender_word,\n",
    "              'style_word':style_word})\n",
    "    return df"
   ]
  },
  {
   "cell_type": "code",
   "execution_count": 790,
   "metadata": {},
   "outputs": [
    {
     "data": {
      "text/html": [
       "<div>\n",
       "<style scoped>\n",
       "    .dataframe tbody tr th:only-of-type {\n",
       "        vertical-align: middle;\n",
       "    }\n",
       "\n",
       "    .dataframe tbody tr th {\n",
       "        vertical-align: top;\n",
       "    }\n",
       "\n",
       "    .dataframe thead th {\n",
       "        text-align: right;\n",
       "    }\n",
       "</style>\n",
       "<table border=\"1\" class=\"dataframe\">\n",
       "  <thead>\n",
       "    <tr style=\"text-align: right;\">\n",
       "      <th></th>\n",
       "      <th>name</th>\n",
       "      <th>color_word</th>\n",
       "      <th>size_word</th>\n",
       "      <th>gender_word</th>\n",
       "      <th>style_word</th>\n",
       "    </tr>\n",
       "  </thead>\n",
       "  <tbody>\n",
       "    <tr>\n",
       "      <th>0</th>\n",
       "      <td>neatnix jewelry stax 3 compartment organizer t...</td>\n",
       "      <td>burgundy</td>\n",
       "      <td>Null</td>\n",
       "      <td>Null</td>\n",
       "      <td>compartment</td>\n",
       "    </tr>\n",
       "    <tr>\n",
       "      <th>1</th>\n",
       "      <td>hard rockin witch wig</td>\n",
       "      <td>Null</td>\n",
       "      <td>Null</td>\n",
       "      <td>Null</td>\n",
       "      <td>rockin</td>\n",
       "    </tr>\n",
       "    <tr>\n",
       "      <th>2</th>\n",
       "      <td>ncaa texas hoodie with tackle twill logo mediu...</td>\n",
       "      <td>black</td>\n",
       "      <td>medium</td>\n",
       "      <td>Null</td>\n",
       "      <td>texas</td>\n",
       "    </tr>\n",
       "    <tr>\n",
       "      <th>3</th>\n",
       "      <td>kipling sausalito</td>\n",
       "      <td>Null</td>\n",
       "      <td>Null</td>\n",
       "      <td>Null</td>\n",
       "      <td>kipling</td>\n",
       "    </tr>\n",
       "    <tr>\n",
       "      <th>4</th>\n",
       "      <td>fbi  female body inspector heavy cotton tshirt...</td>\n",
       "      <td>Null</td>\n",
       "      <td>Null</td>\n",
       "      <td>female</td>\n",
       "      <td>41</td>\n",
       "    </tr>\n",
       "    <tr>\n",
       "      <th>5</th>\n",
       "      <td>costume wig fun blue</td>\n",
       "      <td>blue</td>\n",
       "      <td>Null</td>\n",
       "      <td>fun</td>\n",
       "      <td>fun</td>\n",
       "    </tr>\n",
       "    <tr>\n",
       "      <th>6</th>\n",
       "      <td>redington versipant 30 inseam driftwood xl</td>\n",
       "      <td>Null</td>\n",
       "      <td>xl</td>\n",
       "      <td>Null</td>\n",
       "      <td>redington</td>\n",
       "    </tr>\n",
       "    <tr>\n",
       "      <th>7</th>\n",
       "      <td>duster coat mustard with contrasting brown col...</td>\n",
       "      <td>duster</td>\n",
       "      <td>xl</td>\n",
       "      <td>Null</td>\n",
       "      <td>contrasting</td>\n",
       "    </tr>\n",
       "    <tr>\n",
       "      <th>8</th>\n",
       "      <td>tyr transition backpack 2009</td>\n",
       "      <td>Null</td>\n",
       "      <td>Null</td>\n",
       "      <td>Null</td>\n",
       "      <td>transition</td>\n",
       "    </tr>\n",
       "    <tr>\n",
       "      <th>9</th>\n",
       "      <td>lsu hoodie with screen print logo medium</td>\n",
       "      <td>screen</td>\n",
       "      <td>medium</td>\n",
       "      <td>Null</td>\n",
       "      <td>lsu</td>\n",
       "    </tr>\n",
       "    <tr>\n",
       "      <th>10</th>\n",
       "      <td>winn napa leather 3 ring portfolio</td>\n",
       "      <td>Null</td>\n",
       "      <td>Null</td>\n",
       "      <td>Null</td>\n",
       "      <td>winn</td>\n",
       "    </tr>\n",
       "    <tr>\n",
       "      <th>11</th>\n",
       "      <td>amerileather traditional leather backpack</td>\n",
       "      <td>Null</td>\n",
       "      <td>Null</td>\n",
       "      <td>Null</td>\n",
       "      <td>traditional</td>\n",
       "    </tr>\n",
       "    <tr>\n",
       "      <th>12</th>\n",
       "      <td>bumkins unisexbaby newborn dr. seuss thing 2 s...</td>\n",
       "      <td>Null</td>\n",
       "      <td>Null</td>\n",
       "      <td>newborn</td>\n",
       "      <td>unisexbaby</td>\n",
       "    </tr>\n",
       "    <tr>\n",
       "      <th>13</th>\n",
       "      <td>russet brown vintage paratrooper cargo shorts ...</td>\n",
       "      <td>Null</td>\n",
       "      <td>Null</td>\n",
       "      <td>Null</td>\n",
       "      <td>2175</td>\n",
       "    </tr>\n",
       "    <tr>\n",
       "      <th>14</th>\n",
       "      <td>55017 d36 white olga christina lined underwire</td>\n",
       "      <td>Null</td>\n",
       "      <td>Null</td>\n",
       "      <td>Null</td>\n",
       "      <td>christina</td>\n",
       "    </tr>\n",
       "    <tr>\n",
       "      <th>15</th>\n",
       "      <td>shoe stretch 4 oz</td>\n",
       "      <td>Null</td>\n",
       "      <td>Null</td>\n",
       "      <td>Null</td>\n",
       "      <td>Null</td>\n",
       "    </tr>\n",
       "    <tr>\n",
       "      <th>16</th>\n",
       "      <td>russell athletic georgia tech sweatshirt and t...</td>\n",
       "      <td>Null</td>\n",
       "      <td>xxlarge</td>\n",
       "      <td>Null</td>\n",
       "      <td>georgia</td>\n",
       "    </tr>\n",
       "    <tr>\n",
       "      <th>17</th>\n",
       "      <td>elope springy mistletoe headband multicolored ...</td>\n",
       "      <td>Null</td>\n",
       "      <td>Null</td>\n",
       "      <td>elope</td>\n",
       "      <td>multicolored</td>\n",
       "    </tr>\n",
       "    <tr>\n",
       "      <th>18</th>\n",
       "      <td>tignanello perfect 10 smooth leather small top...</td>\n",
       "      <td>Null</td>\n",
       "      <td>small</td>\n",
       "      <td>Null</td>\n",
       "      <td>tignanello</td>\n",
       "    </tr>\n",
       "    <tr>\n",
       "      <th>19</th>\n",
       "      <td>i still believe  red long sleeve tshirt</td>\n",
       "      <td>red</td>\n",
       "      <td>red</td>\n",
       "      <td>Null</td>\n",
       "      <td>still</td>\n",
       "    </tr>\n",
       "    <tr>\n",
       "      <th>20</th>\n",
       "      <td>breezies microfiber support bra with patented ...</td>\n",
       "      <td>pink</td>\n",
       "      <td>Null</td>\n",
       "      <td>Null</td>\n",
       "      <td>channel</td>\n",
       "    </tr>\n",
       "    <tr>\n",
       "      <th>21</th>\n",
       "      <td>green doctor costume  child small</td>\n",
       "      <td>green</td>\n",
       "      <td>small</td>\n",
       "      <td>doctor</td>\n",
       "      <td>doctor</td>\n",
       "    </tr>\n",
       "    <tr>\n",
       "      <th>22</th>\n",
       "      <td>amoena seamless soft cup</td>\n",
       "      <td>Null</td>\n",
       "      <td>Null</td>\n",
       "      <td>Null</td>\n",
       "      <td>amoena</td>\n",
       "    </tr>\n",
       "    <tr>\n",
       "      <th>23</th>\n",
       "      <td>genuine rose quartz stone cube stretch bracelet</td>\n",
       "      <td>Null</td>\n",
       "      <td>Null</td>\n",
       "      <td>Null</td>\n",
       "      <td>cube</td>\n",
       "    </tr>\n",
       "    <tr>\n",
       "      <th>24</th>\n",
       "      <td>pink floyd  animals tshirt</td>\n",
       "      <td>floyd</td>\n",
       "      <td>floyd</td>\n",
       "      <td>Null</td>\n",
       "      <td>animals</td>\n",
       "    </tr>\n",
       "    <tr>\n",
       "      <th>25</th>\n",
       "      <td>costume wigs blue genie wig</td>\n",
       "      <td>blue</td>\n",
       "      <td>Null</td>\n",
       "      <td>Null</td>\n",
       "      <td>genie</td>\n",
       "    </tr>\n",
       "    <tr>\n",
       "      <th>26</th>\n",
       "      <td>peanuts charlie brown costume tshirt</td>\n",
       "      <td>Null</td>\n",
       "      <td>Null</td>\n",
       "      <td>Null</td>\n",
       "      <td>peanuts</td>\n",
       "    </tr>\n",
       "    <tr>\n",
       "      <th>27</th>\n",
       "      <td>new port amp company  gym bag blackosfa</td>\n",
       "      <td>Null</td>\n",
       "      <td>Null</td>\n",
       "      <td>Null</td>\n",
       "      <td>gym</td>\n",
       "    </tr>\n",
       "    <tr>\n",
       "      <th>28</th>\n",
       "      <td>u f zip fly uniform pant midnite  longs</td>\n",
       "      <td>Null</td>\n",
       "      <td>uniform</td>\n",
       "      <td>uniform</td>\n",
       "      <td>f</td>\n",
       "    </tr>\n",
       "    <tr>\n",
       "      <th>29</th>\n",
       "      <td>universal plier holder for watch making tools ...</td>\n",
       "      <td>or</td>\n",
       "      <td>Null</td>\n",
       "      <td>Null</td>\n",
       "      <td>studio</td>\n",
       "    </tr>\n",
       "    <tr>\n",
       "      <th>...</th>\n",
       "      <td>...</td>\n",
       "      <td>...</td>\n",
       "      <td>...</td>\n",
       "      <td>...</td>\n",
       "      <td>...</td>\n",
       "    </tr>\n",
       "    <tr>\n",
       "      <th>70</th>\n",
       "      <td>for bare feet dog breed boxer roll down sock</td>\n",
       "      <td>down</td>\n",
       "      <td>down</td>\n",
       "      <td>dog</td>\n",
       "      <td>feet</td>\n",
       "    </tr>\n",
       "    <tr>\n",
       "      <th>71</th>\n",
       "      <td>hogwarts banner</td>\n",
       "      <td>Null</td>\n",
       "      <td>banner</td>\n",
       "      <td>Null</td>\n",
       "      <td>hogwarts</td>\n",
       "    </tr>\n",
       "    <tr>\n",
       "      <th>72</th>\n",
       "      <td>disney couture 14kt gold plated multi charms l...</td>\n",
       "      <td>multi</td>\n",
       "      <td>multi</td>\n",
       "      <td>Null</td>\n",
       "      <td>charms</td>\n",
       "    </tr>\n",
       "    <tr>\n",
       "      <th>73</th>\n",
       "      <td>hanes ladies long sleeve tshirt relaxed fit</td>\n",
       "      <td>Null</td>\n",
       "      <td>Null</td>\n",
       "      <td>Null</td>\n",
       "      <td>relaxed</td>\n",
       "    </tr>\n",
       "    <tr>\n",
       "      <th>74</th>\n",
       "      <td>captain america costume sheild</td>\n",
       "      <td>Null</td>\n",
       "      <td>Null</td>\n",
       "      <td>captain</td>\n",
       "      <td>america</td>\n",
       "    </tr>\n",
       "    <tr>\n",
       "      <th>75</th>\n",
       "      <td>black embroidery cotton dress misses tall peti...</td>\n",
       "      <td>xs</td>\n",
       "      <td>xs</td>\n",
       "      <td>Null</td>\n",
       "      <td>embroidery</td>\n",
       "    </tr>\n",
       "    <tr>\n",
       "      <th>76</th>\n",
       "      <td>princess cape in dark pink</td>\n",
       "      <td>cape</td>\n",
       "      <td>cape</td>\n",
       "      <td>cape</td>\n",
       "      <td>cape</td>\n",
       "    </tr>\n",
       "    <tr>\n",
       "      <th>77</th>\n",
       "      <td>olympia academy mini back pack  brown</td>\n",
       "      <td>Null</td>\n",
       "      <td>Null</td>\n",
       "      <td>Null</td>\n",
       "      <td>olympia</td>\n",
       "    </tr>\n",
       "    <tr>\n",
       "      <th>78</th>\n",
       "      <td>white swan nursing uniform cuff scrub pant ass...</td>\n",
       "      <td>Null</td>\n",
       "      <td>uniform</td>\n",
       "      <td>uniform</td>\n",
       "      <td>swan</td>\n",
       "    </tr>\n",
       "    <tr>\n",
       "      <th>79</th>\n",
       "      <td>foot petals heavenly heelz</td>\n",
       "      <td>Null</td>\n",
       "      <td>Null</td>\n",
       "      <td>heavenly</td>\n",
       "      <td>petals</td>\n",
       "    </tr>\n",
       "    <tr>\n",
       "      <th>80</th>\n",
       "      <td>the mountain graceful white wolves child tshirt</td>\n",
       "      <td>wolves</td>\n",
       "      <td>Null</td>\n",
       "      <td>Null</td>\n",
       "      <td>wolves</td>\n",
       "    </tr>\n",
       "    <tr>\n",
       "      <th>81</th>\n",
       "      <td>olive n figs cool orange catchall jute drawstr...</td>\n",
       "      <td>orange</td>\n",
       "      <td>orange</td>\n",
       "      <td>cool</td>\n",
       "      <td>jute</td>\n",
       "    </tr>\n",
       "    <tr>\n",
       "      <th>82</th>\n",
       "      <td>park tool storagetransport bags</td>\n",
       "      <td>Null</td>\n",
       "      <td>Null</td>\n",
       "      <td>Null</td>\n",
       "      <td>park</td>\n",
       "    </tr>\n",
       "    <tr>\n",
       "      <th>83</th>\n",
       "      <td>glamorise magic lift allover fullfigure suppor...</td>\n",
       "      <td>Null</td>\n",
       "      <td>Null</td>\n",
       "      <td>Null</td>\n",
       "      <td>fullfigure</td>\n",
       "    </tr>\n",
       "    <tr>\n",
       "      <th>84</th>\n",
       "      <td>6 black chinese jewelry pouches cinch drawstri...</td>\n",
       "      <td>black</td>\n",
       "      <td>Null</td>\n",
       "      <td>Null</td>\n",
       "      <td>cinch</td>\n",
       "    </tr>\n",
       "    <tr>\n",
       "      <th>85</th>\n",
       "      <td>gwar  skulls tshirt</td>\n",
       "      <td>Null</td>\n",
       "      <td>Null</td>\n",
       "      <td>Null</td>\n",
       "      <td>skulls</td>\n",
       "    </tr>\n",
       "    <tr>\n",
       "      <th>86</th>\n",
       "      <td>medelco sj4 sonic jewelry cleaner.</td>\n",
       "      <td>Null</td>\n",
       "      <td>Null</td>\n",
       "      <td>Null</td>\n",
       "      <td>sonic</td>\n",
       "    </tr>\n",
       "    <tr>\n",
       "      <th>87</th>\n",
       "      <td>for bare feet cocker spaniel socks</td>\n",
       "      <td>Null</td>\n",
       "      <td>Null</td>\n",
       "      <td>Null</td>\n",
       "      <td>cocker</td>\n",
       "    </tr>\n",
       "    <tr>\n",
       "      <th>88</th>\n",
       "      <td>kid collection babygirls satin puffed skirt ch...</td>\n",
       "      <td>Null</td>\n",
       "      <td>Null</td>\n",
       "      <td>Null</td>\n",
       "      <td>bonnet</td>\n",
       "    </tr>\n",
       "    <tr>\n",
       "      <th>89</th>\n",
       "      <td>dominique longline lace torsolette bra</td>\n",
       "      <td>Null</td>\n",
       "      <td>Null</td>\n",
       "      <td>Null</td>\n",
       "      <td>torsolette</td>\n",
       "    </tr>\n",
       "    <tr>\n",
       "      <th>90</th>\n",
       "      <td>sharper image electric shoe buffer ca825</td>\n",
       "      <td>Null</td>\n",
       "      <td>Null</td>\n",
       "      <td>Null</td>\n",
       "      <td>electric</td>\n",
       "    </tr>\n",
       "    <tr>\n",
       "      <th>91</th>\n",
       "      <td>male power super sock 306052</td>\n",
       "      <td>Null</td>\n",
       "      <td>power</td>\n",
       "      <td>power</td>\n",
       "      <td>male</td>\n",
       "    </tr>\n",
       "    <tr>\n",
       "      <th>92</th>\n",
       "      <td>5 star tshirt unlit m</td>\n",
       "      <td>Null</td>\n",
       "      <td>Null</td>\n",
       "      <td>Null</td>\n",
       "      <td>Null</td>\n",
       "    </tr>\n",
       "    <tr>\n",
       "      <th>93</th>\n",
       "      <td>batik indians purple tie dye tshirt</td>\n",
       "      <td>purple</td>\n",
       "      <td>purple</td>\n",
       "      <td>Null</td>\n",
       "      <td>batik</td>\n",
       "    </tr>\n",
       "    <tr>\n",
       "      <th>94</th>\n",
       "      <td>party women short straight wig black bob hair ...</td>\n",
       "      <td>black</td>\n",
       "      <td>cap</td>\n",
       "      <td>bob</td>\n",
       "      <td>+</td>\n",
       "    </tr>\n",
       "    <tr>\n",
       "      <th>95</th>\n",
       "      <td>hype tessa hoboblackone size</td>\n",
       "      <td>Null</td>\n",
       "      <td>Null</td>\n",
       "      <td>Null</td>\n",
       "      <td>hype</td>\n",
       "    </tr>\n",
       "    <tr>\n",
       "      <th>96</th>\n",
       "      <td>lee jeans girls 46x  embroidered crochet flare...</td>\n",
       "      <td>light</td>\n",
       "      <td>light</td>\n",
       "      <td>46x</td>\n",
       "      <td>blast</td>\n",
       "    </tr>\n",
       "    <tr>\n",
       "      <th>97</th>\n",
       "      <td>life is simple  hike  olive tshirt</td>\n",
       "      <td>Null</td>\n",
       "      <td>Null</td>\n",
       "      <td>Null</td>\n",
       "      <td>simple</td>\n",
       "    </tr>\n",
       "    <tr>\n",
       "      <th>98</th>\n",
       "      <td>pittsburgh penguins shortlong sleeve tshirt co...</td>\n",
       "      <td>Null</td>\n",
       "      <td>xxlarge</td>\n",
       "      <td>Null</td>\n",
       "      <td>penguins</td>\n",
       "    </tr>\n",
       "    <tr>\n",
       "      <th>99</th>\n",
       "      <td>ellington leather goods multitasker jet pack b...</td>\n",
       "      <td>black</td>\n",
       "      <td>Null</td>\n",
       "      <td>Null</td>\n",
       "      <td>jet</td>\n",
       "    </tr>\n",
       "  </tbody>\n",
       "</table>\n",
       "<p>100 rows × 5 columns</p>\n",
       "</div>"
      ],
      "text/plain": [
       "                                                 name color_word size_word  \\\n",
       "0   neatnix jewelry stax 3 compartment organizer t...   burgundy      Null   \n",
       "1                               hard rockin witch wig       Null      Null   \n",
       "2   ncaa texas hoodie with tackle twill logo mediu...      black    medium   \n",
       "3                                   kipling sausalito       Null      Null   \n",
       "4   fbi  female body inspector heavy cotton tshirt...       Null      Null   \n",
       "5                                costume wig fun blue       blue      Null   \n",
       "6          redington versipant 30 inseam driftwood xl       Null        xl   \n",
       "7   duster coat mustard with contrasting brown col...     duster        xl   \n",
       "8                        tyr transition backpack 2009       Null      Null   \n",
       "9            lsu hoodie with screen print logo medium     screen    medium   \n",
       "10                 winn napa leather 3 ring portfolio       Null      Null   \n",
       "11          amerileather traditional leather backpack       Null      Null   \n",
       "12  bumkins unisexbaby newborn dr. seuss thing 2 s...       Null      Null   \n",
       "13  russet brown vintage paratrooper cargo shorts ...       Null      Null   \n",
       "14     55017 d36 white olga christina lined underwire       Null      Null   \n",
       "15                                  shoe stretch 4 oz       Null      Null   \n",
       "16  russell athletic georgia tech sweatshirt and t...       Null   xxlarge   \n",
       "17  elope springy mistletoe headband multicolored ...       Null      Null   \n",
       "18  tignanello perfect 10 smooth leather small top...       Null     small   \n",
       "19            i still believe  red long sleeve tshirt        red       red   \n",
       "20  breezies microfiber support bra with patented ...       pink      Null   \n",
       "21                  green doctor costume  child small      green     small   \n",
       "22                           amoena seamless soft cup       Null      Null   \n",
       "23    genuine rose quartz stone cube stretch bracelet       Null      Null   \n",
       "24                         pink floyd  animals tshirt      floyd     floyd   \n",
       "25                        costume wigs blue genie wig       blue      Null   \n",
       "26               peanuts charlie brown costume tshirt       Null      Null   \n",
       "27            new port amp company  gym bag blackosfa       Null      Null   \n",
       "28            u f zip fly uniform pant midnite  longs       Null   uniform   \n",
       "29  universal plier holder for watch making tools ...         or      Null   \n",
       "..                                                ...        ...       ...   \n",
       "70       for bare feet dog breed boxer roll down sock       down      down   \n",
       "71                                    hogwarts banner       Null    banner   \n",
       "72  disney couture 14kt gold plated multi charms l...      multi     multi   \n",
       "73        hanes ladies long sleeve tshirt relaxed fit       Null      Null   \n",
       "74                     captain america costume sheild       Null      Null   \n",
       "75  black embroidery cotton dress misses tall peti...         xs        xs   \n",
       "76                         princess cape in dark pink       cape      cape   \n",
       "77              olympia academy mini back pack  brown       Null      Null   \n",
       "78  white swan nursing uniform cuff scrub pant ass...       Null   uniform   \n",
       "79                         foot petals heavenly heelz       Null      Null   \n",
       "80    the mountain graceful white wolves child tshirt     wolves      Null   \n",
       "81  olive n figs cool orange catchall jute drawstr...     orange    orange   \n",
       "82                    park tool storagetransport bags       Null      Null   \n",
       "83  glamorise magic lift allover fullfigure suppor...       Null      Null   \n",
       "84  6 black chinese jewelry pouches cinch drawstri...      black      Null   \n",
       "85                                gwar  skulls tshirt       Null      Null   \n",
       "86                 medelco sj4 sonic jewelry cleaner.       Null      Null   \n",
       "87                 for bare feet cocker spaniel socks       Null      Null   \n",
       "88  kid collection babygirls satin puffed skirt ch...       Null      Null   \n",
       "89             dominique longline lace torsolette bra       Null      Null   \n",
       "90           sharper image electric shoe buffer ca825       Null      Null   \n",
       "91                       male power super sock 306052       Null     power   \n",
       "92                              5 star tshirt unlit m       Null      Null   \n",
       "93                batik indians purple tie dye tshirt     purple    purple   \n",
       "94  party women short straight wig black bob hair ...      black       cap   \n",
       "95                       hype tessa hoboblackone size       Null      Null   \n",
       "96  lee jeans girls 46x  embroidered crochet flare...      light     light   \n",
       "97                 life is simple  hike  olive tshirt       Null      Null   \n",
       "98  pittsburgh penguins shortlong sleeve tshirt co...       Null   xxlarge   \n",
       "99  ellington leather goods multitasker jet pack b...      black      Null   \n",
       "\n",
       "   gender_word    style_word  \n",
       "0         Null   compartment  \n",
       "1         Null        rockin  \n",
       "2         Null         texas  \n",
       "3         Null       kipling  \n",
       "4       female            41  \n",
       "5          fun           fun  \n",
       "6         Null     redington  \n",
       "7         Null   contrasting  \n",
       "8         Null    transition  \n",
       "9         Null           lsu  \n",
       "10        Null          winn  \n",
       "11        Null   traditional  \n",
       "12     newborn    unisexbaby  \n",
       "13        Null          2175  \n",
       "14        Null     christina  \n",
       "15        Null          Null  \n",
       "16        Null       georgia  \n",
       "17       elope  multicolored  \n",
       "18        Null    tignanello  \n",
       "19        Null         still  \n",
       "20        Null       channel  \n",
       "21      doctor        doctor  \n",
       "22        Null        amoena  \n",
       "23        Null          cube  \n",
       "24        Null       animals  \n",
       "25        Null         genie  \n",
       "26        Null       peanuts  \n",
       "27        Null           gym  \n",
       "28     uniform             f  \n",
       "29        Null        studio  \n",
       "..         ...           ...  \n",
       "70         dog          feet  \n",
       "71        Null      hogwarts  \n",
       "72        Null        charms  \n",
       "73        Null       relaxed  \n",
       "74     captain       america  \n",
       "75        Null    embroidery  \n",
       "76        cape          cape  \n",
       "77        Null       olympia  \n",
       "78     uniform          swan  \n",
       "79    heavenly        petals  \n",
       "80        Null        wolves  \n",
       "81        cool          jute  \n",
       "82        Null          park  \n",
       "83        Null    fullfigure  \n",
       "84        Null         cinch  \n",
       "85        Null        skulls  \n",
       "86        Null         sonic  \n",
       "87        Null        cocker  \n",
       "88        Null        bonnet  \n",
       "89        Null    torsolette  \n",
       "90        Null      electric  \n",
       "91       power          male  \n",
       "92        Null          Null  \n",
       "93        Null         batik  \n",
       "94         bob             +  \n",
       "95        Null          hype  \n",
       "96         46x         blast  \n",
       "97        Null        simple  \n",
       "98        Null      penguins  \n",
       "99        Null           jet  \n",
       "\n",
       "[100 rows x 5 columns]"
      ]
     },
     "execution_count": 790,
     "metadata": {},
     "output_type": "execute_result"
    }
   ],
   "source": [
    "from random import sample \n",
    "df = get_trait_df(sample(all_rows, 200), model, color, gender, size, clothing_style)\n",
    "df.head(100)"
   ]
  },
  {
   "cell_type": "code",
   "execution_count": 794,
   "metadata": {},
   "outputs": [],
   "source": [
    "df.to_csv('get_traits_on_amazon_data.csv')"
   ]
  },
  {
   "cell_type": "markdown",
   "metadata": {},
   "source": [
    "# Test on the given Data"
   ]
  },
  {
   "cell_type": "code",
   "execution_count": 795,
   "metadata": {},
   "outputs": [],
   "source": [
    "names = pd.read_csv('ecommerce_product_names.csv')"
   ]
  },
  {
   "cell_type": "code",
   "execution_count": 796,
   "metadata": {},
   "outputs": [],
   "source": [
    "import re\n",
    "from itertools import chain\n",
    "\n",
    "all_rows_name = [re.sub('[()&;,:!<>/#~-]', '', row.lower()) for row in names['Product Name']]\n",
    "allWords = [row.split(' ') for row in all_rows_name]\n",
    "\n",
    "\n",
    "allWordDist = nltk.FreqDist(w.lower() for w in list(chain(*allWords)))\n",
    "stopwords = nltk.corpus.stopwords.words('english')\n",
    "#stopwords.extend(['in', 'on', 'with', 'for', 'by', 'to', 'and', 'the', 'm', 'us'])\n",
    "allWordExceptStopDist = nltk.FreqDist(w.lower() for w in allWordDist if w not in stopwords)    "
   ]
  },
  {
   "cell_type": "code",
   "execution_count": 797,
   "metadata": {},
   "outputs": [],
   "source": [
    "freq = [i[0] for i in allWordExceptStopDist.most_common(1000)]"
   ]
  },
  {
   "cell_type": "code",
   "execution_count": 798,
   "metadata": {},
   "outputs": [
    {
     "data": {
      "text/plain": [
       "['alisha',\n",
       " 'solid',\n",
       " \"women's\",\n",
       " 'cycling',\n",
       " 'shorts',\n",
       " 'fabhomedecor',\n",
       " 'fabric',\n",
       " 'double',\n",
       " 'sofa',\n",
       " 'bed']"
      ]
     },
     "execution_count": 798,
     "metadata": {},
     "output_type": "execute_result"
    }
   ],
   "source": [
    "freq[:10]"
   ]
  },
  {
   "cell_type": "code",
   "execution_count": 799,
   "metadata": {},
   "outputs": [],
   "source": [
    "color = 'Red, Orange, Yellow, Green, Blue, Purple, Brown, Silver, Violet, Pink, Black, White, Gray, Grey'.lower().split(', ')\n",
    "size = ['large', 'medium', 'small', 'tiny', 'xxl', 'xl', 'xxxl',  '38', '4.5', '14k']\n",
    "\n",
    "gender = ['men', 'women', 'boys', 'men\\'s', 'women\\'s', 'girls','ladies']\n",
    "clothing_noun = ['shirt', 'tshirt', 'pants', 'sweatshirt', 'sock','socks','visor','hat',\n",
    "                 't-shirt', 'top', 'pajamas', 'pajama', 'miniskirt',\n",
    "                 'jacket', 'leggings', 'legging', 'underwear',\n",
    "                 'costume', 'cardigan', 'blouse', 'beret', 'shorts', 'bibbikini',\n",
    "                 'sock', 'sweater', 'suit', 'stockings', 'sweatshirt', 'trousers',\n",
    "                 'uniform', 'gown', 'clothing', 'belt', 'bonnet', 'tie', 'blazer',\n",
    "                 'dress', 'attire', 'apron', 'bra', 'jeans', 'raincoat', 'lingerie',\n",
    "                 'shorts']\n",
    "\n",
    "\n",
    "accesory = ['sunglasses', 'watch', 'socks', 'tie', 'ipad', \n",
    "            'bow tie', 'purse', 'gloves', 'scarf', 'umbrella',\n",
    "            'earmuffs', 'hair band', 'handbag', 'mittens', 'cuff links', \n",
    "            'shirt studs' , 'tie clips', 'handkerchief', 'keyrings', 'keychains',\n",
    "           'wallets', 'cap', 'hat']\n",
    "\n",
    "# https://en.wikipedia.org/wiki/Cosmetics\n",
    "beauty = ['makeup', 'concealer', 'cosmetics', 'primer', 'foundation', \n",
    "         'powder', 'bronzer', 'eyeshadow', 'lip balm', 'balm', 'eyeliner',\n",
    "         'mascara', 'blush', 'lipstick', 'lip gloss', 'rouge', \n",
    "           'blusher', 'highlight', 'nail polish', 'spray', 'contouring',\n",
    "          'eyebrow', 'cleanser', 'cleansing oil', 'toners', 'facial mask',\n",
    "          'moisturizers', 'lotion', 'shampoo', 'bodycream', 'skin care', 'soap']\n",
    "\n",
    "\n",
    "# https://www.wikiwand.com/en/List_of_jewellery_types\n",
    "jewelry = ['crown', 'coronet', 'corolla', 'tiara', 'earring', \n",
    "           'hairpin', 'hatpin', 'bracelet', 'brooch', 'ring', 'necklace',\n",
    "           'anklet', 'armlet', 'bangle', 'choker',  'fascinator', 'jewellery']\n",
    "\n",
    "shoes = ['heels', 'sandals', 'slippers', 'flip-flops', 'loafers', \n",
    "        'boots', 'sneakers', 'trainers', 'ballerina', 'saddle', 'mule']\n",
    "\n",
    "\n",
    "\n",
    "exclude = [i for i in chain(color, size, gender, clothing_noun, shoes, jewelry, beauty, accesory)]\n",
    "style = [i for i in freq if i not in exclude]"
   ]
  },
  {
   "cell_type": "code",
   "execution_count": 800,
   "metadata": {},
   "outputs": [],
   "source": [
    "# skip gram\n",
    "model2 = Word2Vec(allWords, min_count=1, size= 50, workers=3, window = 3, sg = 1)"
   ]
  },
  {
   "cell_type": "code",
   "execution_count": 801,
   "metadata": {},
   "outputs": [],
   "source": [
    "def get_trait_df(all_rows_name, model2, color, gender, size, style):\n",
    "    color_word = []\n",
    "    size_word = []\n",
    "    gender_word =[]\n",
    "    style_word = []\n",
    "    for i in all_rows_name:\n",
    "        color_word.append(get_traits(model2, i, color))\n",
    "        size_word.append(get_traits(model2, i, size))\n",
    "        gender_word.append(get_traits(model2, i, gender))\n",
    "        style_word.append(get_traits(model2, i, style))\n",
    "    df = pd.DataFrame({'name': all_rows_name, 'color_word': color_word, \n",
    "              'size_word': size_word, 'gender_word': gender_word,\n",
    "              'style_word':style_word})\n",
    "    return df"
   ]
  },
  {
   "cell_type": "code",
   "execution_count": 804,
   "metadata": {},
   "outputs": [],
   "source": [
    "df = get_trait_df(all_rows_name[:100], model2, color, gender, size, style)\n",
    "#df.head(100)"
   ]
  },
  {
   "cell_type": "code",
   "execution_count": 805,
   "metadata": {},
   "outputs": [
    {
     "data": {
      "image/png": "[encoded data removed]",
      "text/plain": [
       "<Figure size 432x288 with 1 Axes>"
      ]
     },
     "metadata": {
      "needs_background": "light"
     },
     "output_type": "display_data"
    }
   ],
   "source": [
    "from sklearn.manifold import TSNE\n",
    "import matplotlib.pyplot as plt \n",
    "\n",
    "def display_closestwords_tsnescatterplot(model, word, size):\n",
    "    \n",
    "    arr = np.empty((0,size), dtype='f')\n",
    "    word_labels = [word]\n",
    "    close_words = model.similar_by_word(word)\n",
    "    arr = np.append(arr, np.array([model[word]]), axis=0)\n",
    "    for wrd_score in close_words:\n",
    "        wrd_vector = model[wrd_score[0]]\n",
    "        word_labels.append(wrd_score[0])\n",
    "        arr = np.append(arr, np.array([wrd_vector]), axis=0)\n",
    "        \n",
    "    tsne = TSNE(n_components=2, random_state=0)\n",
    "    np.set_printoptions(suppress=True)\n",
    "    Y = tsne.fit_transform(arr)\n",
    "    x_coords = Y[:, 0]\n",
    "    y_coords = Y[:, 1]\n",
    "    plt.scatter(x_coords, y_coords)\n",
    "    for label, x, y in zip(word_labels, x_coords, y_coords):\n",
    "        plt.annotate(label, xy=(x, y), xytext=(0, 0), textcoords='offset points')\n",
    "    plt.xlim(x_coords.min()+0.00005, x_coords.max()+0.00005)\n",
    "    plt.ylim(y_coords.min()+0.00005, y_coords.max()+0.00005)\n",
    "    plt.show()\n",
    "    \n",
    "    \n",
    "display_closestwords_tsnescatterplot(model2, 'dress', 50) "
   ]
  },
  {
   "cell_type": "code",
   "execution_count": 806,
   "metadata": {},
   "outputs": [
    {
     "data": {
      "image/png": "[encoded data removed]",
      "text/plain": [
       "<Figure size 432x288 with 1 Axes>"
      ]
     },
     "metadata": {
      "needs_background": "light"
     },
     "output_type": "display_data"
    }
   ],
   "source": [
    "display_closestwords_tsnescatterplot(model2, 'shirt', 50) "
   ]
  },
  {
   "cell_type": "code",
   "execution_count": 807,
   "metadata": {},
   "outputs": [
    {
     "data": {
      "image/png": "[encoded data removed]",
      "text/plain": [
       "<Figure size 432x288 with 1 Axes>"
      ]
     },
     "metadata": {
      "needs_background": "light"
     },
     "output_type": "display_data"
    }
   ],
   "source": [
    "display_closestwords_tsnescatterplot(model2, 'red', 50) "
   ]
  },
  {
   "cell_type": "code",
   "execution_count": 808,
   "metadata": {},
   "outputs": [
    {
     "data": {
      "image/png": "[encoded data removed]",
      "text/plain": [
       "<Figure size 432x288 with 1 Axes>"
      ]
     },
     "metadata": {
      "needs_background": "light"
     },
     "output_type": "display_data"
    }
   ],
   "source": [
    "display_closestwords_tsnescatterplot(model2, 'towel', 50) "
   ]
  },
  {
   "cell_type": "code",
   "execution_count": 809,
   "metadata": {},
   "outputs": [
    {
     "data": {
      "image/png": "[encoded data removed]",
      "text/plain": [
       "<Figure size 432x288 with 1 Axes>"
      ]
     },
     "metadata": {
      "needs_background": "light"
     },
     "output_type": "display_data"
    }
   ],
   "source": [
    "display_closestwords_tsnescatterplot(model, 'belt', 50) "
   ]
  },
  {
   "cell_type": "code",
   "execution_count": null,
   "metadata": {},
   "outputs": [],
   "source": []
  }
 ],
 "metadata": {
  "kernelspec": {
   "display_name": "Python 3",
   "language": "python",
   "name": "python3"
  },
  "language_info": {
   "codemirror_mode": {
    "name": "ipython",
    "version": 3
   },
   "file_extension": ".py",
   "mimetype": "text/x-python",
   "name": "python",
   "nbconvert_exporter": "python",
   "pygments_lexer": "ipython3",
   "version": "3.6.7"
  }
 },
 "nbformat": 4,
 "nbformat_minor": 2
}
